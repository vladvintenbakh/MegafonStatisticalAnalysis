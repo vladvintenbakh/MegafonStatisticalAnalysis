{
 "cells": [
  {
   "cell_type": "code",
   "execution_count": 1,
   "id": "205ca1ef",
   "metadata": {},
   "outputs": [],
   "source": [
    "# importing the libraries\n",
    "import pandas as pd"
   ]
  },
  {
   "cell_type": "code",
   "execution_count": 2,
   "id": "4a82a341",
   "metadata": {},
   "outputs": [
    {
     "data": {
      "text/html": [
       "<div>\n",
       "<style scoped>\n",
       "    .dataframe tbody tr th:only-of-type {\n",
       "        vertical-align: middle;\n",
       "    }\n",
       "\n",
       "    .dataframe tbody tr th {\n",
       "        vertical-align: top;\n",
       "    }\n",
       "\n",
       "    .dataframe thead th {\n",
       "        text-align: right;\n",
       "    }\n",
       "</style>\n",
       "<table border=\"1\" class=\"dataframe\">\n",
       "  <thead>\n",
       "    <tr style=\"text-align: right;\">\n",
       "      <th></th>\n",
       "      <th>user_id</th>\n",
       "      <th>Q1</th>\n",
       "      <th>Q2</th>\n",
       "      <th>Total Traffic(MB)</th>\n",
       "      <th>Downlink Throughput(Kbps)</th>\n",
       "      <th>Uplink Throughput(Kbps)</th>\n",
       "      <th>Downlink TCP Retransmission Rate(%)</th>\n",
       "      <th>Video Streaming Download Throughput(Kbps)</th>\n",
       "      <th>Video Streaming xKB Start Delay(ms)</th>\n",
       "      <th>Web Page Download Throughput(Kbps)</th>\n",
       "      <th>Web Average TCP RTT(ms)</th>\n",
       "    </tr>\n",
       "  </thead>\n",
       "  <tbody>\n",
       "    <tr>\n",
       "      <th>0</th>\n",
       "      <td>1</td>\n",
       "      <td>5</td>\n",
       "      <td>NaN</td>\n",
       "      <td>775.48846</td>\n",
       "      <td>360.13</td>\n",
       "      <td>86.56</td>\n",
       "      <td>3.93</td>\n",
       "      <td>1859.15</td>\n",
       "      <td>2309</td>\n",
       "      <td>1007.82</td>\n",
       "      <td>83</td>\n",
       "    </tr>\n",
       "    <tr>\n",
       "      <th>1</th>\n",
       "      <td>2</td>\n",
       "      <td>5</td>\n",
       "      <td>4</td>\n",
       "      <td>861.96324</td>\n",
       "      <td>3023.54</td>\n",
       "      <td>411.18</td>\n",
       "      <td>1.27</td>\n",
       "      <td>667.47</td>\n",
       "      <td>2080</td>\n",
       "      <td>255.36</td>\n",
       "      <td>425</td>\n",
       "    </tr>\n",
       "    <tr>\n",
       "      <th>2</th>\n",
       "      <td>3</td>\n",
       "      <td>1</td>\n",
       "      <td>4</td>\n",
       "      <td>261.11860</td>\n",
       "      <td>790.96</td>\n",
       "      <td>34.20</td>\n",
       "      <td>1.79</td>\n",
       "      <td>1079.60</td>\n",
       "      <td>6367</td>\n",
       "      <td>535.85</td>\n",
       "      <td>485</td>\n",
       "    </tr>\n",
       "    <tr>\n",
       "      <th>3</th>\n",
       "      <td>4</td>\n",
       "      <td>8</td>\n",
       "      <td>3</td>\n",
       "      <td>179.18564</td>\n",
       "      <td>2590.97</td>\n",
       "      <td>325.88</td>\n",
       "      <td>0.80</td>\n",
       "      <td>7053.81</td>\n",
       "      <td>3218</td>\n",
       "      <td>1221.02</td>\n",
       "      <td>51</td>\n",
       "    </tr>\n",
       "    <tr>\n",
       "      <th>4</th>\n",
       "      <td>5</td>\n",
       "      <td>2</td>\n",
       "      <td>2, 3, 4</td>\n",
       "      <td>351.99208</td>\n",
       "      <td>731.61</td>\n",
       "      <td>223.54</td>\n",
       "      <td>1.15</td>\n",
       "      <td>4550.38</td>\n",
       "      <td>1767</td>\n",
       "      <td>2336.56</td>\n",
       "      <td>68</td>\n",
       "    </tr>\n",
       "  </tbody>\n",
       "</table>\n",
       "</div>"
      ],
      "text/plain": [
       "   user_id Q1       Q2  Total Traffic(MB)  Downlink Throughput(Kbps)  \\\n",
       "0        1  5      NaN          775.48846                     360.13   \n",
       "1        2  5        4          861.96324                    3023.54   \n",
       "2        3  1        4          261.11860                     790.96   \n",
       "3        4  8        3          179.18564                    2590.97   \n",
       "4        5  2  2, 3, 4          351.99208                     731.61   \n",
       "\n",
       "   Uplink Throughput(Kbps)  Downlink TCP Retransmission Rate(%)  \\\n",
       "0                    86.56                                 3.93   \n",
       "1                   411.18                                 1.27   \n",
       "2                    34.20                                 1.79   \n",
       "3                   325.88                                 0.80   \n",
       "4                   223.54                                 1.15   \n",
       "\n",
       "   Video Streaming Download Throughput(Kbps)  \\\n",
       "0                                    1859.15   \n",
       "1                                     667.47   \n",
       "2                                    1079.60   \n",
       "3                                    7053.81   \n",
       "4                                    4550.38   \n",
       "\n",
       "   Video Streaming xKB Start Delay(ms)  Web Page Download Throughput(Kbps)  \\\n",
       "0                                 2309                             1007.82   \n",
       "1                                 2080                              255.36   \n",
       "2                                 6367                              535.85   \n",
       "3                                 3218                             1221.02   \n",
       "4                                 1767                             2336.56   \n",
       "\n",
       "   Web Average TCP RTT(ms)  \n",
       "0                       83  \n",
       "1                      425  \n",
       "2                      485  \n",
       "3                       51  \n",
       "4                       68  "
      ]
     },
     "execution_count": 2,
     "metadata": {},
     "output_type": "execute_result"
    }
   ],
   "source": [
    "# loading the original dataset\n",
    "df = pd.read_csv(\"megafon.csv\")\n",
    "df.head()"
   ]
  },
  {
   "cell_type": "code",
   "execution_count": 3,
   "id": "8fa0ecd8",
   "metadata": {},
   "outputs": [],
   "source": [
    "cols = [\"id\", \"q1\", \"q2\", \"total_traffic\", \"downlink_throughput\", \"uplink_throughput\",\n",
    "        \"retransmission_rate\", \"video_streaming_throughput\", \"video_delay\",\n",
    "        \"webpage_download_throughput\", \"web_average_rtt\"]\n",
    "df.columns = cols"
   ]
  },
  {
   "cell_type": "code",
   "execution_count": 4,
   "id": "a63823db",
   "metadata": {},
   "outputs": [
    {
     "data": {
      "text/plain": [
       "id                               int64\n",
       "q1                              object\n",
       "q2                              object\n",
       "total_traffic                  float64\n",
       "downlink_throughput            float64\n",
       "uplink_throughput              float64\n",
       "retransmission_rate            float64\n",
       "video_streaming_throughput     float64\n",
       "video_delay                      int64\n",
       "webpage_download_throughput    float64\n",
       "web_average_rtt                  int64\n",
       "dtype: object"
      ]
     },
     "execution_count": 4,
     "metadata": {},
     "output_type": "execute_result"
    }
   ],
   "source": [
    "df.dtypes"
   ]
  },
  {
   "cell_type": "code",
   "execution_count": 5,
   "id": "657d2534",
   "metadata": {},
   "outputs": [
    {
     "name": "stdout",
     "output_type": "stream",
     "text": [
      "2, 9\n",
      "1, 3\n",
      "nan\n",
      "1, 6\n",
      "***** ** ***\n",
      "3 - дер.Ширяево Волоколамского района, 9 - в Москве\n",
      "10, 9\n",
      "Чем даль ше,тем лучше.Спасибо за ваш труд.Оценка 10 !\n",
      "ОЦЕНКА-3/НЕВАЖНО/\n",
      "Отвратительно\n",
      "1, 3\n",
      "Я ценой услуг не удовлетворен\n",
      "Пока не понял\n",
      "3, 9\n",
      "5, 6\n",
      "0, 1, 5\n",
      "5, 7\n",
      "4. Тульская область Заокский район. Романовские дачи связи почти нет\n",
      "Немагу дать атценку денги незашто снимаеть скоро выклучаю\n",
      "10, 50\n",
      "Очень  хорошо. Обслуживания  я довольно. Спасибо вам.555\n",
      "Поохое\n",
      "Когда в Москве-10 а когда в калужской области в деревне Бели-1\n",
      "Нет\n",
      "Нет\n",
      "Ужасно\n",
      "3 тройка, связь отвратительная, жалко платить за такой тарив\n",
      "5, 6\n",
      "Чдтчдтччдтччч\n",
      "3, 7\n",
      "20, 89031081392\n",
      "1, 8\n",
      "Без з\n",
      "10, 5\n",
      "2, 5\n",
      "nan\n",
      "Я в Смол. Области живу сейчас, не пользуюсь телефоном совсем\n"
     ]
    }
   ],
   "source": [
    "# identifying invalid responses to the first question\n",
    "to_delete = []\n",
    "for i, response in enumerate(df[\"q1\"]):\n",
    "    try:\n",
    "        if len(response) > 2:\n",
    "            print(response)\n",
    "            to_delete.append(i)\n",
    "    except:\n",
    "        print(response)\n",
    "        to_delete.append(i)"
   ]
  },
  {
   "cell_type": "code",
   "execution_count": 6,
   "id": "67434634",
   "metadata": {},
   "outputs": [
    {
     "name": "stdout",
     "output_type": "stream",
     "text": [
      "[80, 238, 371, 459, 491]\n"
     ]
    }
   ],
   "source": [
    "print(to_delete[:5])"
   ]
  },
  {
   "cell_type": "code",
   "execution_count": 7,
   "id": "8b22d230",
   "metadata": {},
   "outputs": [
    {
     "data": {
      "text/plain": [
       "3112"
      ]
     },
     "execution_count": 7,
     "metadata": {},
     "output_type": "execute_result"
    }
   ],
   "source": [
    "len(df)"
   ]
  },
  {
   "cell_type": "code",
   "execution_count": 8,
   "id": "9a1cf243",
   "metadata": {},
   "outputs": [],
   "source": [
    "# removing the invalid responses to the first question found above\n",
    "df.drop(to_delete, axis=0, inplace=True)\n",
    "df.reset_index(inplace=True)"
   ]
  },
  {
   "cell_type": "code",
   "execution_count": 9,
   "id": "cb52123e",
   "metadata": {},
   "outputs": [
    {
     "data": {
      "text/plain": [
       "3075"
      ]
     },
     "execution_count": 9,
     "metadata": {},
     "output_type": "execute_result"
    }
   ],
   "source": [
    "len(df)"
   ]
  },
  {
   "cell_type": "code",
   "execution_count": 10,
   "id": "e92512f9",
   "metadata": {},
   "outputs": [
    {
     "data": {
      "text/plain": [
       "['1', '2', '3', '4', '5', '6', '7', '8', '9', '10']"
      ]
     },
     "execution_count": 10,
     "metadata": {},
     "output_type": "execute_result"
    }
   ],
   "source": [
    "nums = list(range(1, 11))\n",
    "nums = [str(i) for i in nums]\n",
    "nums"
   ]
  },
  {
   "cell_type": "code",
   "execution_count": 11,
   "id": "68d32a39",
   "metadata": {},
   "outputs": [
    {
     "name": "stdout",
     "output_type": "stream",
     "text": [
      "11\n",
      "0\n",
      "0\n",
      "19\n",
      "15\n",
      "0\n",
      "0\n",
      "0\n",
      "0\n",
      "0\n",
      "0\n",
      "Hi\n",
      "?\n",
      "0\n",
      "Да\n",
      "Да\n",
      "0\n"
     ]
    }
   ],
   "source": [
    "# checking whether there are any other irrelevant responses left\n",
    "to_delete = []\n",
    "for i, response in enumerate(df[\"q1\"]):\n",
    "    if response not in nums:\n",
    "        print(response)\n",
    "        to_delete.append(i)"
   ]
  },
  {
   "cell_type": "code",
   "execution_count": 12,
   "id": "774994db",
   "metadata": {},
   "outputs": [
    {
     "data": {
      "text/plain": [
       "3075"
      ]
     },
     "execution_count": 12,
     "metadata": {},
     "output_type": "execute_result"
    }
   ],
   "source": [
    "len(df)"
   ]
  },
  {
   "cell_type": "code",
   "execution_count": 13,
   "id": "af6278e7",
   "metadata": {},
   "outputs": [],
   "source": [
    "# dropping the remaining invalid responses\n",
    "df.drop(to_delete, axis=0, inplace=True)"
   ]
  },
  {
   "cell_type": "code",
   "execution_count": 14,
   "id": "4ef109e8",
   "metadata": {},
   "outputs": [
    {
     "data": {
      "text/plain": [
       "3058"
      ]
     },
     "execution_count": 14,
     "metadata": {},
     "output_type": "execute_result"
    }
   ],
   "source": [
    "len(df)"
   ]
  },
  {
   "cell_type": "code",
   "execution_count": 15,
   "id": "a0875dfd",
   "metadata": {},
   "outputs": [
    {
     "data": {
      "text/html": [
       "<div>\n",
       "<style scoped>\n",
       "    .dataframe tbody tr th:only-of-type {\n",
       "        vertical-align: middle;\n",
       "    }\n",
       "\n",
       "    .dataframe tbody tr th {\n",
       "        vertical-align: top;\n",
       "    }\n",
       "\n",
       "    .dataframe thead th {\n",
       "        text-align: right;\n",
       "    }\n",
       "</style>\n",
       "<table border=\"1\" class=\"dataframe\">\n",
       "  <thead>\n",
       "    <tr style=\"text-align: right;\">\n",
       "      <th></th>\n",
       "      <th>index</th>\n",
       "      <th>id</th>\n",
       "      <th>q1</th>\n",
       "      <th>q2</th>\n",
       "      <th>total_traffic</th>\n",
       "      <th>downlink_throughput</th>\n",
       "      <th>uplink_throughput</th>\n",
       "      <th>retransmission_rate</th>\n",
       "      <th>video_streaming_throughput</th>\n",
       "      <th>video_delay</th>\n",
       "      <th>webpage_download_throughput</th>\n",
       "      <th>web_average_rtt</th>\n",
       "    </tr>\n",
       "  </thead>\n",
       "  <tbody>\n",
       "    <tr>\n",
       "      <th>0</th>\n",
       "      <td>0</td>\n",
       "      <td>1</td>\n",
       "      <td>5</td>\n",
       "      <td>NaN</td>\n",
       "      <td>775.48846</td>\n",
       "      <td>360.13</td>\n",
       "      <td>86.56</td>\n",
       "      <td>3.93</td>\n",
       "      <td>1859.15</td>\n",
       "      <td>2309</td>\n",
       "      <td>1007.82</td>\n",
       "      <td>83</td>\n",
       "    </tr>\n",
       "    <tr>\n",
       "      <th>1</th>\n",
       "      <td>1</td>\n",
       "      <td>2</td>\n",
       "      <td>5</td>\n",
       "      <td>4</td>\n",
       "      <td>861.96324</td>\n",
       "      <td>3023.54</td>\n",
       "      <td>411.18</td>\n",
       "      <td>1.27</td>\n",
       "      <td>667.47</td>\n",
       "      <td>2080</td>\n",
       "      <td>255.36</td>\n",
       "      <td>425</td>\n",
       "    </tr>\n",
       "    <tr>\n",
       "      <th>2</th>\n",
       "      <td>2</td>\n",
       "      <td>3</td>\n",
       "      <td>1</td>\n",
       "      <td>4</td>\n",
       "      <td>261.11860</td>\n",
       "      <td>790.96</td>\n",
       "      <td>34.20</td>\n",
       "      <td>1.79</td>\n",
       "      <td>1079.60</td>\n",
       "      <td>6367</td>\n",
       "      <td>535.85</td>\n",
       "      <td>485</td>\n",
       "    </tr>\n",
       "    <tr>\n",
       "      <th>3</th>\n",
       "      <td>3</td>\n",
       "      <td>4</td>\n",
       "      <td>8</td>\n",
       "      <td>3</td>\n",
       "      <td>179.18564</td>\n",
       "      <td>2590.97</td>\n",
       "      <td>325.88</td>\n",
       "      <td>0.80</td>\n",
       "      <td>7053.81</td>\n",
       "      <td>3218</td>\n",
       "      <td>1221.02</td>\n",
       "      <td>51</td>\n",
       "    </tr>\n",
       "    <tr>\n",
       "      <th>4</th>\n",
       "      <td>4</td>\n",
       "      <td>5</td>\n",
       "      <td>2</td>\n",
       "      <td>2, 3, 4</td>\n",
       "      <td>351.99208</td>\n",
       "      <td>731.61</td>\n",
       "      <td>223.54</td>\n",
       "      <td>1.15</td>\n",
       "      <td>4550.38</td>\n",
       "      <td>1767</td>\n",
       "      <td>2336.56</td>\n",
       "      <td>68</td>\n",
       "    </tr>\n",
       "  </tbody>\n",
       "</table>\n",
       "</div>"
      ],
      "text/plain": [
       "   index  id q1       q2  total_traffic  downlink_throughput  \\\n",
       "0      0   1  5      NaN      775.48846               360.13   \n",
       "1      1   2  5        4      861.96324              3023.54   \n",
       "2      2   3  1        4      261.11860               790.96   \n",
       "3      3   4  8        3      179.18564              2590.97   \n",
       "4      4   5  2  2, 3, 4      351.99208               731.61   \n",
       "\n",
       "   uplink_throughput  retransmission_rate  video_streaming_throughput  \\\n",
       "0              86.56                 3.93                     1859.15   \n",
       "1             411.18                 1.27                      667.47   \n",
       "2              34.20                 1.79                     1079.60   \n",
       "3             325.88                 0.80                     7053.81   \n",
       "4             223.54                 1.15                     4550.38   \n",
       "\n",
       "   video_delay  webpage_download_throughput  web_average_rtt  \n",
       "0         2309                      1007.82               83  \n",
       "1         2080                       255.36              425  \n",
       "2         6367                       535.85              485  \n",
       "3         3218                      1221.02               51  \n",
       "4         1767                      2336.56               68  "
      ]
     },
     "execution_count": 15,
     "metadata": {},
     "output_type": "execute_result"
    }
   ],
   "source": [
    "df.head()"
   ]
  },
  {
   "cell_type": "code",
   "execution_count": 16,
   "id": "05b3f7cb",
   "metadata": {},
   "outputs": [],
   "source": [
    "# preprocessing the Q2 responses\n",
    "items = []\n",
    "for i, item in enumerate(df[\"q2\"]):\n",
    "    try:\n",
    "        items.append(item.split())\n",
    "    except:\n",
    "        items.append(None)"
   ]
  },
  {
   "cell_type": "code",
   "execution_count": 17,
   "id": "c39fb7f9",
   "metadata": {},
   "outputs": [],
   "source": [
    "for i, item in enumerate(items):\n",
    "    if item != None:\n",
    "        new_list = []\n",
    "        for sub_item in item:\n",
    "            res = sub_item.replace(\",\", \"\")\n",
    "            if res not in nums[:7]:\n",
    "                continue\n",
    "            else:\n",
    "                new_list.append(res)\n",
    "        if len(new_list) > 0:\n",
    "            items[i] = \",\".join(new_list)\n",
    "        else:\n",
    "            items[i] = None"
   ]
  },
  {
   "cell_type": "code",
   "execution_count": 18,
   "id": "fcba51b1",
   "metadata": {},
   "outputs": [
    {
     "data": {
      "text/plain": [
       "[None, '4', '4', '3', '2,3,4']"
      ]
     },
     "execution_count": 18,
     "metadata": {},
     "output_type": "execute_result"
    }
   ],
   "source": [
    "items[:5]"
   ]
  },
  {
   "cell_type": "code",
   "execution_count": 23,
   "id": "587e36df",
   "metadata": {},
   "outputs": [
    {
     "data": {
      "text/html": [
       "<div>\n",
       "<style scoped>\n",
       "    .dataframe tbody tr th:only-of-type {\n",
       "        vertical-align: middle;\n",
       "    }\n",
       "\n",
       "    .dataframe tbody tr th {\n",
       "        vertical-align: top;\n",
       "    }\n",
       "\n",
       "    .dataframe thead th {\n",
       "        text-align: right;\n",
       "    }\n",
       "</style>\n",
       "<table border=\"1\" class=\"dataframe\">\n",
       "  <thead>\n",
       "    <tr style=\"text-align: right;\">\n",
       "      <th></th>\n",
       "      <th>index</th>\n",
       "      <th>id</th>\n",
       "      <th>q1</th>\n",
       "      <th>q2</th>\n",
       "      <th>total_traffic</th>\n",
       "      <th>downlink_throughput</th>\n",
       "      <th>uplink_throughput</th>\n",
       "      <th>retransmission_rate</th>\n",
       "      <th>video_streaming_throughput</th>\n",
       "      <th>video_delay</th>\n",
       "      <th>webpage_download_throughput</th>\n",
       "      <th>web_average_rtt</th>\n",
       "    </tr>\n",
       "  </thead>\n",
       "  <tbody>\n",
       "    <tr>\n",
       "      <th>0</th>\n",
       "      <td>0</td>\n",
       "      <td>1</td>\n",
       "      <td>5</td>\n",
       "      <td>None</td>\n",
       "      <td>775.48846</td>\n",
       "      <td>360.13</td>\n",
       "      <td>86.56</td>\n",
       "      <td>3.93</td>\n",
       "      <td>1859.15</td>\n",
       "      <td>2309</td>\n",
       "      <td>1007.82</td>\n",
       "      <td>83</td>\n",
       "    </tr>\n",
       "    <tr>\n",
       "      <th>1</th>\n",
       "      <td>1</td>\n",
       "      <td>2</td>\n",
       "      <td>5</td>\n",
       "      <td>4</td>\n",
       "      <td>861.96324</td>\n",
       "      <td>3023.54</td>\n",
       "      <td>411.18</td>\n",
       "      <td>1.27</td>\n",
       "      <td>667.47</td>\n",
       "      <td>2080</td>\n",
       "      <td>255.36</td>\n",
       "      <td>425</td>\n",
       "    </tr>\n",
       "    <tr>\n",
       "      <th>2</th>\n",
       "      <td>2</td>\n",
       "      <td>3</td>\n",
       "      <td>1</td>\n",
       "      <td>4</td>\n",
       "      <td>261.11860</td>\n",
       "      <td>790.96</td>\n",
       "      <td>34.20</td>\n",
       "      <td>1.79</td>\n",
       "      <td>1079.60</td>\n",
       "      <td>6367</td>\n",
       "      <td>535.85</td>\n",
       "      <td>485</td>\n",
       "    </tr>\n",
       "    <tr>\n",
       "      <th>3</th>\n",
       "      <td>3</td>\n",
       "      <td>4</td>\n",
       "      <td>8</td>\n",
       "      <td>3</td>\n",
       "      <td>179.18564</td>\n",
       "      <td>2590.97</td>\n",
       "      <td>325.88</td>\n",
       "      <td>0.80</td>\n",
       "      <td>7053.81</td>\n",
       "      <td>3218</td>\n",
       "      <td>1221.02</td>\n",
       "      <td>51</td>\n",
       "    </tr>\n",
       "    <tr>\n",
       "      <th>4</th>\n",
       "      <td>4</td>\n",
       "      <td>5</td>\n",
       "      <td>2</td>\n",
       "      <td>2,3,4</td>\n",
       "      <td>351.99208</td>\n",
       "      <td>731.61</td>\n",
       "      <td>223.54</td>\n",
       "      <td>1.15</td>\n",
       "      <td>4550.38</td>\n",
       "      <td>1767</td>\n",
       "      <td>2336.56</td>\n",
       "      <td>68</td>\n",
       "    </tr>\n",
       "  </tbody>\n",
       "</table>\n",
       "</div>"
      ],
      "text/plain": [
       "   index  id q1     q2  total_traffic  downlink_throughput  uplink_throughput  \\\n",
       "0      0   1  5   None      775.48846               360.13              86.56   \n",
       "1      1   2  5      4      861.96324              3023.54             411.18   \n",
       "2      2   3  1      4      261.11860               790.96              34.20   \n",
       "3      3   4  8      3      179.18564              2590.97             325.88   \n",
       "4      4   5  2  2,3,4      351.99208               731.61             223.54   \n",
       "\n",
       "   retransmission_rate  video_streaming_throughput  video_delay  \\\n",
       "0                 3.93                     1859.15         2309   \n",
       "1                 1.27                      667.47         2080   \n",
       "2                 1.79                     1079.60         6367   \n",
       "3                 0.80                     7053.81         3218   \n",
       "4                 1.15                     4550.38         1767   \n",
       "\n",
       "   webpage_download_throughput  web_average_rtt  \n",
       "0                      1007.82               83  \n",
       "1                       255.36              425  \n",
       "2                       535.85              485  \n",
       "3                      1221.02               51  \n",
       "4                      2336.56               68  "
      ]
     },
     "execution_count": 23,
     "metadata": {},
     "output_type": "execute_result"
    }
   ],
   "source": [
    "df[\"q2\"] = items\n",
    "df.head()"
   ]
  },
  {
   "cell_type": "code",
   "execution_count": 24,
   "id": "6335f69e",
   "metadata": {},
   "outputs": [
    {
     "data": {
      "text/html": [
       "<div>\n",
       "<style scoped>\n",
       "    .dataframe tbody tr th:only-of-type {\n",
       "        vertical-align: middle;\n",
       "    }\n",
       "\n",
       "    .dataframe tbody tr th {\n",
       "        vertical-align: top;\n",
       "    }\n",
       "\n",
       "    .dataframe thead th {\n",
       "        text-align: right;\n",
       "    }\n",
       "</style>\n",
       "<table border=\"1\" class=\"dataframe\">\n",
       "  <thead>\n",
       "    <tr style=\"text-align: right;\">\n",
       "      <th></th>\n",
       "      <th>id</th>\n",
       "      <th>q1</th>\n",
       "      <th>q2</th>\n",
       "      <th>total_traffic</th>\n",
       "      <th>downlink_throughput</th>\n",
       "      <th>uplink_throughput</th>\n",
       "      <th>retransmission_rate</th>\n",
       "      <th>video_streaming_throughput</th>\n",
       "      <th>video_delay</th>\n",
       "      <th>webpage_download_throughput</th>\n",
       "      <th>web_average_rtt</th>\n",
       "    </tr>\n",
       "  </thead>\n",
       "  <tbody>\n",
       "    <tr>\n",
       "      <th>0</th>\n",
       "      <td>1</td>\n",
       "      <td>5</td>\n",
       "      <td>None</td>\n",
       "      <td>775.48846</td>\n",
       "      <td>360.13</td>\n",
       "      <td>86.56</td>\n",
       "      <td>3.93</td>\n",
       "      <td>1859.15</td>\n",
       "      <td>2309</td>\n",
       "      <td>1007.82</td>\n",
       "      <td>83</td>\n",
       "    </tr>\n",
       "    <tr>\n",
       "      <th>1</th>\n",
       "      <td>2</td>\n",
       "      <td>5</td>\n",
       "      <td>4</td>\n",
       "      <td>861.96324</td>\n",
       "      <td>3023.54</td>\n",
       "      <td>411.18</td>\n",
       "      <td>1.27</td>\n",
       "      <td>667.47</td>\n",
       "      <td>2080</td>\n",
       "      <td>255.36</td>\n",
       "      <td>425</td>\n",
       "    </tr>\n",
       "    <tr>\n",
       "      <th>2</th>\n",
       "      <td>3</td>\n",
       "      <td>1</td>\n",
       "      <td>4</td>\n",
       "      <td>261.11860</td>\n",
       "      <td>790.96</td>\n",
       "      <td>34.20</td>\n",
       "      <td>1.79</td>\n",
       "      <td>1079.60</td>\n",
       "      <td>6367</td>\n",
       "      <td>535.85</td>\n",
       "      <td>485</td>\n",
       "    </tr>\n",
       "    <tr>\n",
       "      <th>3</th>\n",
       "      <td>4</td>\n",
       "      <td>8</td>\n",
       "      <td>3</td>\n",
       "      <td>179.18564</td>\n",
       "      <td>2590.97</td>\n",
       "      <td>325.88</td>\n",
       "      <td>0.80</td>\n",
       "      <td>7053.81</td>\n",
       "      <td>3218</td>\n",
       "      <td>1221.02</td>\n",
       "      <td>51</td>\n",
       "    </tr>\n",
       "    <tr>\n",
       "      <th>4</th>\n",
       "      <td>5</td>\n",
       "      <td>2</td>\n",
       "      <td>2,3,4</td>\n",
       "      <td>351.99208</td>\n",
       "      <td>731.61</td>\n",
       "      <td>223.54</td>\n",
       "      <td>1.15</td>\n",
       "      <td>4550.38</td>\n",
       "      <td>1767</td>\n",
       "      <td>2336.56</td>\n",
       "      <td>68</td>\n",
       "    </tr>\n",
       "  </tbody>\n",
       "</table>\n",
       "</div>"
      ],
      "text/plain": [
       "   id q1     q2  total_traffic  downlink_throughput  uplink_throughput  \\\n",
       "0   1  5   None      775.48846               360.13              86.56   \n",
       "1   2  5      4      861.96324              3023.54             411.18   \n",
       "2   3  1      4      261.11860               790.96              34.20   \n",
       "3   4  8      3      179.18564              2590.97             325.88   \n",
       "4   5  2  2,3,4      351.99208               731.61             223.54   \n",
       "\n",
       "   retransmission_rate  video_streaming_throughput  video_delay  \\\n",
       "0                 3.93                     1859.15         2309   \n",
       "1                 1.27                      667.47         2080   \n",
       "2                 1.79                     1079.60         6367   \n",
       "3                 0.80                     7053.81         3218   \n",
       "4                 1.15                     4550.38         1767   \n",
       "\n",
       "   webpage_download_throughput  web_average_rtt  \n",
       "0                      1007.82               83  \n",
       "1                       255.36              425  \n",
       "2                       535.85              485  \n",
       "3                      1221.02               51  \n",
       "4                      2336.56               68  "
      ]
     },
     "execution_count": 24,
     "metadata": {},
     "output_type": "execute_result"
    }
   ],
   "source": [
    "del df[\"index\"]\n",
    "df.head()"
   ]
  },
  {
   "cell_type": "code",
   "execution_count": 25,
   "id": "6f95cfbf",
   "metadata": {},
   "outputs": [],
   "source": [
    "# saving the preprocessed .csv file\n",
    "df.to_csv(\"megafon_clean.csv\", index=False, sep=\";\")"
   ]
  },
  {
   "cell_type": "code",
   "execution_count": null,
   "id": "35be220a",
   "metadata": {},
   "outputs": [],
   "source": []
  }
 ],
 "metadata": {
  "kernelspec": {
   "display_name": "Python 3",
   "language": "python",
   "name": "python3"
  },
  "language_info": {
   "codemirror_mode": {
    "name": "ipython",
    "version": 3
   },
   "file_extension": ".py",
   "mimetype": "text/x-python",
   "name": "python",
   "nbconvert_exporter": "python",
   "pygments_lexer": "ipython3",
   "version": "3.7.7"
  }
 },
 "nbformat": 4,
 "nbformat_minor": 5
}
